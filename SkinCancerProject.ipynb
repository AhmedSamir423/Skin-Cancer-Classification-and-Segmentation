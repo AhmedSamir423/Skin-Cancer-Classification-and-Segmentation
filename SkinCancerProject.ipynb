{
 "cells": [
  {
   "cell_type": "markdown",
   "metadata": {},
   "source": [
    "### Imports"
   ]
  },
  {
   "cell_type": "code",
   "execution_count": 34,
   "metadata": {},
   "outputs": [],
   "source": [
    "import numpy as np\n",
    "import matplotlib.pyplot as plt\n",
    "import pandas as pd\n",
    "import cv2\n",
    "import sklearn\n",
    "import torch\n",
    "import torchvision.transforms as transforms"
   ]
  },
  {
   "cell_type": "markdown",
   "metadata": {},
   "source": [
    "### Load the dataset into dataframe"
   ]
  },
  {
   "cell_type": "code",
   "execution_count": 35,
   "metadata": {},
   "outputs": [
    {
     "name": "stdout",
     "output_type": "stream",
     "text": [
      "Metadata Shape: (10015, 8)\n",
      "\n",
      "First few rows of metadata:\n",
      "          image  MEL   NV  BCC  AKIEC  BKL   DF  VASC label\n",
      "0  ISIC_0024306  0.0  1.0  0.0    0.0  0.0  0.0   0.0    NV\n",
      "1  ISIC_0024307  0.0  1.0  0.0    0.0  0.0  0.0   0.0    NV\n",
      "2  ISIC_0024308  0.0  1.0  0.0    0.0  0.0  0.0   0.0    NV\n",
      "3  ISIC_0024309  0.0  1.0  0.0    0.0  0.0  0.0   0.0    NV\n",
      "4  ISIC_0024310  1.0  0.0  0.0    0.0  0.0  0.0   0.0   MEL\n"
     ]
    }
   ],
   "source": [
    "# Load the metadata (labels)\n",
    "metadata_path = \"../HAM10000/GroundTruth.csv\"\n",
    "metadata = pd.read_csv(metadata_path)\n",
    "classes = [\"MEL\", \"NV\", \"BCC\", \"AKIEC\", \"BKL\", \"DF\", \"VASC\"]\n",
    "print(\"Metadata Shape:\", metadata.shape)\n",
    "metadata[\"label\"] = metadata[classes].idxmax(axis=1)\n",
    "print(\"\\nFirst few rows of metadata:\")\n",
    "print(metadata.head())"
   ]
  },
  {
   "cell_type": "code",
   "execution_count": 36,
   "metadata": {},
   "outputs": [
    {
     "name": "stdout",
     "output_type": "stream",
     "text": [
      "\n",
      "Class Distribution:\n",
      "MEL      1113.0\n",
      "NV       6705.0\n",
      "BCC       514.0\n",
      "AKIEC     327.0\n",
      "BKL      1099.0\n",
      "DF        115.0\n",
      "VASC      142.0\n",
      "dtype: float64\n"
     ]
    }
   ],
   "source": [
    "class_counts = metadata[classes].sum()\n",
    "print(\"\\nClass Distribution:\")\n",
    "print(class_counts)"
   ]
  },
  {
   "cell_type": "code",
   "execution_count": 37,
   "metadata": {},
   "outputs": [
    {
     "data": {
      "image/png": "[encoded data removed]",
      "text/plain": [
       "<Figure size 1000x500 with 1 Axes>"
      ]
     },
     "metadata": {},
     "output_type": "display_data"
    }
   ],
   "source": [
    "# Plot the distribution\n",
    "plt.figure(figsize=(10, 5))\n",
    "plt.bar(class_counts.index, class_counts.values)\n",
    "plt.title(\"Class Distribution in HAM10000 Dataset\")\n",
    "plt.xlabel(\"Class\")\n",
    "plt.ylabel(\"Number of Samples\")\n",
    "plt.show()"
   ]
  },
  {
   "cell_type": "markdown",
   "metadata": {},
   "source": [
    "### Sample to make sure everything is fine"
   ]
  },
  {
   "cell_type": "code",
   "execution_count": 38,
   "metadata": {},
   "outputs": [
    {
     "ename": "error",
     "evalue": "OpenCV(4.11.0) D:\\a\\opencv-python\\opencv-python\\opencv\\modules\\imgproc\\src\\color.cpp:199: error: (-215:Assertion failed) !_src.empty() in function 'cv::cvtColor'\n",
     "output_type": "error",
     "traceback": [
      "\u001b[1;31m---------------------------------------------------------------------------\u001b[0m",
      "\u001b[1;31merror\u001b[0m                                     Traceback (most recent call last)",
      "Cell \u001b[1;32mIn[38], line 10\u001b[0m\n\u001b[0;32m      8\u001b[0m mask_path \u001b[38;5;241m=\u001b[39m \u001b[38;5;124mf\u001b[39m\u001b[38;5;124m\"\u001b[39m\u001b[38;5;124m../HAM10000/masks/\u001b[39m\u001b[38;5;132;01m{\u001b[39;00mimage_id\u001b[38;5;132;01m}\u001b[39;00m\u001b[38;5;124m_segmentation.png\u001b[39m\u001b[38;5;124m\"\u001b[39m\n\u001b[0;32m      9\u001b[0m image \u001b[38;5;241m=\u001b[39m cv2\u001b[38;5;241m.\u001b[39mimread(image_path)\n\u001b[1;32m---> 10\u001b[0m image \u001b[38;5;241m=\u001b[39m \u001b[43mcv2\u001b[49m\u001b[38;5;241;43m.\u001b[39;49m\u001b[43mcvtColor\u001b[49m\u001b[43m(\u001b[49m\u001b[43mimage\u001b[49m\u001b[43m,\u001b[49m\u001b[43m \u001b[49m\u001b[43mcv2\u001b[49m\u001b[38;5;241;43m.\u001b[39;49m\u001b[43mCOLOR_BGR2RGB\u001b[49m\u001b[43m)\u001b[49m  \u001b[38;5;66;03m# Convert BGR to RGB for correct display\u001b[39;00m\n\u001b[0;32m     11\u001b[0m mask \u001b[38;5;241m=\u001b[39m cv2\u001b[38;5;241m.\u001b[39mimread(mask_path, cv2\u001b[38;5;241m.\u001b[39mIMREAD_GRAYSCALE)  \u001b[38;5;66;03m# Load mask as grayscale\u001b[39;00m\n\u001b[0;32m     13\u001b[0m \u001b[38;5;66;03m# Display\u001b[39;00m\n",
      "\u001b[1;31merror\u001b[0m: OpenCV(4.11.0) D:\\a\\opencv-python\\opencv-python\\opencv\\modules\\imgproc\\src\\color.cpp:199: error: (-215:Assertion failed) !_src.empty() in function 'cv::cvtColor'\n"
     ]
    }
   ],
   "source": [
    "# Load and display a sample image, mask, and label\n",
    "sample = metadata.iloc[25]  # First row\n",
    "image_id = sample[\"image\"]\n",
    "label = classes[sample[classes].values.argmax()]  # Get the class with value 1\n",
    "\n",
    "# Load image and mask\n",
    "image_path = f\"../HAM10000/images/{image_id}.jpg\"\n",
    "mask_path = f\"../HAM10000/masks/{image_id}_segmentation.png\"\n",
    "image = cv2.imread(image_path)\n",
    "image = cv2.cvtColor(image, cv2.COLOR_BGR2RGB)  # Convert BGR to RGB for correct display\n",
    "mask = cv2.imread(mask_path, cv2.IMREAD_GRAYSCALE)  # Load mask as grayscale\n",
    "\n",
    "# Display\n",
    "plt.figure(figsize=(10, 5))\n",
    "plt.subplot(1, 2, 1)\n",
    "plt.imshow(image)\n",
    "plt.title(f\"Image (Label: {label})\")\n",
    "plt.axis(\"off\")\n",
    "plt.subplot(1, 2, 2)\n",
    "plt.imshow(mask, cmap=\"gray\")\n",
    "plt.title(\"Mask\")\n",
    "plt.axis(\"off\")\n",
    "plt.show()"
   ]
  },
  {
   "cell_type": "markdown",
   "metadata": {},
   "source": [
    "### TRAIN / TEST / VALIDATION SPLIT"
   ]
  },
  {
   "cell_type": "code",
   "execution_count": null,
   "metadata": {},
   "outputs": [
    {
     "name": "stdout",
     "output_type": "stream",
     "text": [
      "\n",
      "Dataset Split Sizes:\n",
      "Training set: 7010 samples (70.0%)\n",
      "Validation set: 1503 samples (15.0%)\n",
      "Test set: 1502 samples (15.0%)\n",
      "\n",
      "Class Distribution in Training Set:\n",
      "label\n",
      "NV       4693\n",
      "MEL       779\n",
      "BKL       769\n",
      "BCC       360\n",
      "AKIEC     229\n",
      "VASC       99\n",
      "DF         81\n",
      "Name: count, dtype: int64\n",
      "\n",
      "Class Distribution in Validation Set:\n",
      "label\n",
      "NV       1006\n",
      "MEL       167\n",
      "BKL       165\n",
      "BCC        77\n",
      "AKIEC      49\n",
      "VASC       22\n",
      "DF         17\n",
      "Name: count, dtype: int64\n",
      "\n",
      "Class Distribution in Test Set:\n",
      "label\n",
      "NV       1006\n",
      "MEL       167\n",
      "BKL       165\n",
      "BCC        77\n",
      "AKIEC      49\n",
      "VASC       21\n",
      "DF         17\n",
      "Name: count, dtype: int64\n"
     ]
    }
   ],
   "source": [
    "# Split into train and test+val (70% train, 30% test+val)\n",
    "from sklearn.model_selection import train_test_split\n",
    "\n",
    "\n",
    "train_data, test_val_data = train_test_split(\n",
    "    metadata,\n",
    "    test_size=0.3,\n",
    "    random_state=42,\n",
    "    stratify=metadata[\"label\"]\n",
    ")\n",
    "\n",
    "# Split test+val into test and val (15% test, 15% val)\n",
    "test_data, val_data = train_test_split(\n",
    "    test_val_data,\n",
    "    test_size=0.5,  # 0.5 of 30% = 15% of total\n",
    "    random_state=42,\n",
    "    stratify=test_val_data[\"label\"]\n",
    ")\n",
    "\n",
    "# Print the sizes of each split\n",
    "print(\"\\nDataset Split Sizes:\")\n",
    "print(f\"Training set: {len(train_data)} samples ({len(train_data)/len(metadata)*100:.1f}%)\")\n",
    "print(f\"Validation set: {len(val_data)} samples ({len(val_data)/len(metadata)*100:.1f}%)\")\n",
    "print(f\"Test set: {len(test_data)} samples ({len(test_data)/len(metadata)*100:.1f}%)\")\n",
    "\n",
    "# Check class distribution in each split\n",
    "print(\"\\nClass Distribution in Training Set:\")\n",
    "print(train_data[\"label\"].value_counts())\n",
    "print(\"\\nClass Distribution in Validation Set:\")\n",
    "print(val_data[\"label\"].value_counts())\n",
    "print(\"\\nClass Distribution in Test Set:\")\n",
    "print(test_data[\"label\"].value_counts())"
   ]
  },
  {
   "cell_type": "markdown",
   "metadata": {},
   "source": [
    "### Create empty folder"
   ]
  },
  {
   "cell_type": "code",
   "execution_count": null,
   "metadata": {},
   "outputs": [
    {
     "name": "stdout",
     "output_type": "stream",
     "text": [
      "Folder structure created successfully.\n"
     ]
    }
   ],
   "source": [
    "import os\n",
    "import shutil\n",
    "\n",
    "# Define the classes\n",
    "classes = [\"MEL\", \"NV\", \"BCC\", \"AKIEC\", \"BKL\", \"DF\", \"VASC\"]\n",
    "\n",
    "# Define the base paths\n",
    "base_image_path = \"../HAM10000/images/\"\n",
    "base_mask_path = \"../HAM10000/masks/\"\n",
    "\n",
    "# Define the splits\n",
    "splits = [\"train\", \"val\", \"test\"]\n",
    "\n",
    "# Create the new folder structure\n",
    "for split in splits:\n",
    "    for class_name in classes:\n",
    "        # Create image folders (e.g., images/train/MEL/)\n",
    "        image_split_class_path = os.path.join(base_image_path, split, class_name)\n",
    "        os.makedirs(image_split_class_path, exist_ok=True)\n",
    "        \n",
    "        # Create mask folders (e.g., masks/train/MEL/)\n",
    "        mask_split_class_path = os.path.join(base_mask_path, split, class_name)\n",
    "        os.makedirs(mask_split_class_path, exist_ok=True)\n",
    "\n",
    "print(\"Folder structure created successfully.\")"
   ]
  },
  {
   "cell_type": "markdown",
   "metadata": {},
   "source": [
    "### SPLIT DATA INTO SPECIFIC FOLDERS"
   ]
  },
  {
   "cell_type": "code",
   "execution_count": null,
   "metadata": {},
   "outputs": [
    {
     "name": "stdout",
     "output_type": "stream",
     "text": [
      "Files moved successfully.\n"
     ]
    }
   ],
   "source": [
    "# Function to move files for a given split\n",
    "def move_files(data, split_name):\n",
    "    for _, row in data.iterrows():\n",
    "        image_id = row[\"image\"]\n",
    "        label = row[\"label\"]\n",
    "        \n",
    "        # Source paths\n",
    "        src_image_path = f\"../HAM10000/images/{image_id}.jpg\"\n",
    "        src_mask_path = f\"../HAM10000/masks/{image_id}_segmentation.png\"\n",
    "        \n",
    "        # Destination paths\n",
    "        dst_image_path = f\"../HAM10000/images/{split_name}/{label}/{image_id}.jpg\"\n",
    "        dst_mask_path = f\"../HAM10000/masks/{split_name}/{label}/{image_id}_segmentation.png\"\n",
    "        \n",
    "        # Move files (copy then delete to be safe)\n",
    "        if os.path.exists(src_image_path) and os.path.exists(src_mask_path):\n",
    "            shutil.copy2(src_image_path, dst_image_path)\n",
    "            shutil.copy2(src_mask_path, dst_mask_path)\n",
    "            os.remove(src_image_path)  # Remove the original file\n",
    "            os.remove(src_mask_path)\n",
    "        else:\n",
    "            print(f\"Missing file for {image_id} in {split_name} split\")\n",
    "\n",
    "# Move files for each split\n",
    "move_files(train_data, \"train\")\n",
    "move_files(val_data, \"val\")\n",
    "move_files(test_data, \"test\")\n",
    "\n",
    "print(\"Files moved successfully.\")"
   ]
  },
  {
   "cell_type": "markdown",
   "metadata": {},
   "source": [
    "### Data Precoessing"
   ]
  },
  {
   "cell_type": "code",
   "execution_count": null,
   "metadata": {},
   "outputs": [
    {
     "name": "stdout",
     "output_type": "stream",
     "text": [
      "\n",
      "Checking train/MEL...\n",
      "Initial: 779 images, 779 masks\n",
      "After cleanup: 779 images, 779 masks\n",
      "\n",
      "Checking train/NV...\n",
      "Initial: 4693 images, 4693 masks\n",
      "After cleanup: 4693 images, 4693 masks\n",
      "\n",
      "Checking train/BCC...\n",
      "Initial: 360 images, 360 masks\n",
      "After cleanup: 360 images, 360 masks\n",
      "\n",
      "Checking train/AKIEC...\n",
      "Initial: 229 images, 229 masks\n",
      "After cleanup: 229 images, 229 masks\n",
      "\n",
      "Checking train/BKL...\n",
      "Initial: 769 images, 769 masks\n",
      "After cleanup: 769 images, 769 masks\n",
      "\n",
      "Checking train/DF...\n",
      "Initial: 81 images, 81 masks\n",
      "After cleanup: 81 images, 81 masks\n",
      "\n",
      "Checking train/VASC...\n",
      "Initial: 99 images, 99 masks\n",
      "After cleanup: 99 images, 99 masks\n",
      "\n",
      "Checking val/MEL...\n",
      "Initial: 167 images, 167 masks\n",
      "After cleanup: 167 images, 167 masks\n",
      "\n",
      "Checking val/NV...\n",
      "Initial: 1006 images, 1006 masks\n",
      "After cleanup: 1006 images, 1006 masks\n",
      "\n",
      "Checking val/BCC...\n",
      "Initial: 77 images, 77 masks\n",
      "After cleanup: 77 images, 77 masks\n",
      "\n",
      "Checking val/AKIEC...\n",
      "Initial: 49 images, 49 masks\n",
      "After cleanup: 49 images, 49 masks\n",
      "\n",
      "Checking val/BKL...\n",
      "Initial: 165 images, 165 masks\n",
      "After cleanup: 165 images, 165 masks\n",
      "\n",
      "Checking val/DF...\n",
      "Initial: 17 images, 17 masks\n",
      "After cleanup: 17 images, 17 masks\n",
      "\n",
      "Checking val/VASC...\n",
      "Initial: 22 images, 22 masks\n",
      "After cleanup: 22 images, 22 masks\n",
      "\n",
      "Checking test/MEL...\n",
      "Initial: 167 images, 167 masks\n",
      "After cleanup: 167 images, 167 masks\n",
      "\n",
      "Checking test/NV...\n",
      "Initial: 1006 images, 1006 masks\n",
      "After cleanup: 1006 images, 1006 masks\n",
      "\n",
      "Checking test/BCC...\n",
      "Initial: 77 images, 77 masks\n",
      "After cleanup: 77 images, 77 masks\n",
      "\n",
      "Checking test/AKIEC...\n",
      "Initial: 49 images, 49 masks\n",
      "After cleanup: 49 images, 49 masks\n",
      "\n",
      "Checking test/BKL...\n",
      "Initial: 165 images, 165 masks\n",
      "After cleanup: 165 images, 165 masks\n",
      "\n",
      "Checking test/DF...\n",
      "Initial: 17 images, 17 masks\n",
      "After cleanup: 17 images, 17 masks\n",
      "\n",
      "Checking test/VASC...\n",
      "Initial: 21 images, 21 masks\n",
      "After cleanup: 21 images, 21 masks\n"
     ]
    }
   ],
   "source": [
    "import cv2\n",
    "import os\n",
    "\n",
    "# Define the splits and classes\n",
    "splits = [\"train\", \"val\", \"test\"]\n",
    "classes = [\"MEL\", \"NV\", \"BCC\", \"AKIEC\", \"BKL\", \"DF\", \"VASC\"]\n",
    "\n",
    "# Base paths\n",
    "base_image_path = \"../HAM10000/images/\"\n",
    "base_mask_path = \"../HAM10000/masks/\"\n",
    "\n",
    "# Check for corrupt files and remove them\n",
    "for split in splits:\n",
    "    for class_name in classes:\n",
    "        image_dir = os.path.join(base_image_path, split, class_name)\n",
    "        mask_dir = os.path.join(base_mask_path, split, class_name)\n",
    "        \n",
    "        image_files = os.listdir(image_dir)\n",
    "        mask_files = os.listdir(mask_dir)\n",
    "        \n",
    "        print(f\"\\nChecking {split}/{class_name}...\")\n",
    "        print(f\"Initial: {len(image_files)} images, {len(mask_files)} masks\")\n",
    "        \n",
    "        # Check each image\n",
    "        for image_file in image_files:\n",
    "            image_path = os.path.join(image_dir, image_file)\n",
    "            mask_file = image_file.replace(\".jpg\", \"_segmentation.png\")\n",
    "            mask_path = os.path.join(mask_dir, mask_file)\n",
    "            \n",
    "            # Load image and mask\n",
    "            image = cv2.imread(image_path)\n",
    "            mask = cv2.imread(mask_path, cv2.IMREAD_GRAYSCALE)\n",
    "            \n",
    "            # Check if either file is corrupt or missing\n",
    "            if image is None or mask is None or mask_file not in mask_files:\n",
    "                print(f\"Corrupt or missing pair: {image_file} in {split}/{class_name}\")\n",
    "                if os.path.exists(image_path):\n",
    "                    os.remove(image_path)\n",
    "                if os.path.exists(mask_path):\n",
    "                    os.remove(mask_path)\n",
    "        \n",
    "        # Recount after removal\n",
    "        image_files = os.listdir(image_dir)\n",
    "        mask_files = os.listdir(mask_dir)\n",
    "        print(f\"After cleanup: {len(image_files)} images, {len(mask_files)} masks\")\n",
    "        \n",
    "        # Final check for mismatch\n",
    "        if len(image_files) != len(mask_files):\n",
    "            print(f\"Warning: Mismatch in {split}/{class_name} after cleanup\")"
   ]
  },
  {
   "cell_type": "code",
   "execution_count": null,
   "metadata": {},
   "outputs": [],
   "source": [
    "import torchvision.transforms as transforms\n",
    "\n",
    "# Define image size (e.g., 224x224, common for CNNs like ResNet)\n",
    "IMG_SIZE = (224, 224)\n",
    "\n",
    "# Define transformations for images\n",
    "train_transforms = transforms.Compose([\n",
    "    transforms.ToPILImage(),\n",
    "    transforms.Resize(IMG_SIZE),\n",
    "    transforms.RandomHorizontalFlip(),  # Data augmentation for training\n",
    "    transforms.RandomRotation(10),      # Data augmentation\n",
    "    transforms.ToTensor(),\n",
    "    transforms.Normalize(mean=[0.485, 0.456, 0.406], std=[0.229, 0.224, 0.225])  # ImageNet stats\n",
    "])\n",
    "\n",
    "val_test_transforms = transforms.Compose([\n",
    "    transforms.ToPILImage(),\n",
    "    transforms.Resize(IMG_SIZE),\n",
    "    transforms.ToTensor(),\n",
    "    transforms.Normalize(mean=[0.485, 0.456, 0.406], std=[0.229, 0.224, 0.225])\n",
    "])\n",
    "\n",
    "# Define transformations for masks (resize only, no normalization)\n",
    "mask_transforms = transforms.Compose([\n",
    "    transforms.ToPILImage(),\n",
    "    transforms.Resize(IMG_SIZE, interpolation=transforms.InterpolationMode.NEAREST),\n",
    "    transforms.ToTensor()\n",
    "])"
   ]
  },
  {
   "cell_type": "code",
   "execution_count": null,
   "metadata": {},
   "outputs": [
    {
     "name": "stdout",
     "output_type": "stream",
     "text": [
      "Train dataset size: 7010\n",
      "Validation dataset size: 1503\n",
      "Test dataset size: 1502\n"
     ]
    }
   ],
   "source": [
    "from torch.utils.data import Dataset\n",
    "import cv2\n",
    "import os\n",
    "\n",
    "class SkinCancerDataset(Dataset):\n",
    "    def __init__(self, split, transform=None, mask_transform=None):\n",
    "        self.split = split  # 'train', 'val', or 'test'\n",
    "        self.transform = transform\n",
    "        self.mask_transform = mask_transform\n",
    "        self.classes = [\"MEL\", \"NV\", \"BCC\", \"AKIEC\", \"BKL\", \"DF\", \"VASC\"]\n",
    "        self.class_to_idx = {cls: idx for idx, cls in enumerate(self.classes)}\n",
    "        \n",
    "        # Collect all image paths and labels\n",
    "        self.image_paths = []\n",
    "        self.labels = []\n",
    "        \n",
    "        for class_name in self.classes:\n",
    "            image_dir = f\"../HAM10000/images/{split}/{class_name}/\"\n",
    "            for image_file in os.listdir(image_dir):\n",
    "                self.image_paths.append(os.path.join(image_dir, image_file))\n",
    "                self.labels.append(self.class_to_idx[class_name])\n",
    "    \n",
    "    def __len__(self):\n",
    "        return len(self.image_paths)\n",
    "    \n",
    "    def __getitem__(self, idx):\n",
    "        # Load image\n",
    "        image_path = self.image_paths[idx]\n",
    "        image = cv2.imread(image_path)\n",
    "        image = cv2.cvtColor(image, cv2.COLOR_BGR2RGB)  # Convert BGR to RGB\n",
    "        \n",
    "        # Load mask\n",
    "        mask_path = image_path.replace(\"images\", \"masks\").replace(\".jpg\", \"_segmentation.png\")\n",
    "        mask = cv2.imread(mask_path, cv2.IMREAD_GRAYSCALE)\n",
    "        \n",
    "        # Apply transformations\n",
    "        if self.transform:\n",
    "            image = self.transform(image)\n",
    "        if self.mask_transform:\n",
    "            mask = self.mask_transform(mask)\n",
    "            mask = (mask > 0).float()  # Ensure mask is binary (0 or 1)\n",
    "        \n",
    "        label = self.labels[idx]\n",
    "        return image, mask, label\n",
    "\n",
    "# Create datasets\n",
    "train_dataset = SkinCancerDataset(\"train\", transform=train_transforms, mask_transform=mask_transforms)\n",
    "val_dataset = SkinCancerDataset(\"val\", transform=val_test_transforms, mask_transform=mask_transforms)\n",
    "test_dataset = SkinCancerDataset(\"test\", transform=val_test_transforms, mask_transform=mask_transforms)\n",
    "\n",
    "print(f\"Train dataset size: {len(train_dataset)}\")\n",
    "print(f\"Validation dataset size: {len(val_dataset)}\")\n",
    "print(f\"Test dataset size: {len(test_dataset)}\")"
   ]
  },
  {
   "cell_type": "code",
   "execution_count": null,
   "metadata": {},
   "outputs": [
    {
     "name": "stdout",
     "output_type": "stream",
     "text": [
      "Train loader creation took 0.00 seconds\n",
      "Val loader creation took 0.00 seconds\n",
      "Test loader creation took 0.00 seconds\n",
      "Loading first batch took 0.65 seconds\n",
      "Batch shapes - Images: torch.Size([64, 3, 224, 224]), Masks: torch.Size([64, 1, 224, 224]), Labels: torch.Size([64])\n"
     ]
    }
   ],
   "source": [
    "from torch.utils.data import DataLoader\n",
    "import time\n",
    "\n",
    "# Define batch size\n",
    "BATCH_SIZE = 32\n",
    "\n",
    "# Create DataLoaders with num_workers=0 to avoid multiprocessing issues\n",
    "start_time = time.time()\n",
    "train_loader = DataLoader(train_dataset, batch_size=BATCH_SIZE, shuffle=True, num_workers=0)\n",
    "print(f\"Train loader creation took {time.time() - start_time:.2f} seconds\")\n",
    "\n",
    "start_time = time.time()\n",
    "val_loader = DataLoader(val_dataset, batch_size=BATCH_SIZE, shuffle=False, num_workers=0)\n",
    "print(f\"Val loader creation took {time.time() - start_time:.2f} seconds\")\n",
    "\n",
    "start_time = time.time()\n",
    "test_loader = DataLoader(test_dataset, batch_size=BATCH_SIZE, shuffle=False, num_workers=0)\n",
    "print(f\"Test loader creation took {time.time() - start_time:.2f} seconds\")\n",
    "\n",
    "# Verify a batch\n",
    "start_time = time.time()\n",
    "images, masks, labels = next(iter(train_loader))\n",
    "print(f\"Loading first batch took {time.time() - start_time:.2f} seconds\")\n",
    "print(f\"Batch shapes - Images: {images.shape}, Masks: {masks.shape}, Labels: {labels.shape}\")"
   ]
  },
  {
   "cell_type": "code",
   "execution_count": null,
   "metadata": {},
   "outputs": [
    {
     "name": "stdout",
     "output_type": "stream",
     "text": [
      "torch.Size([64, 3, 224, 224])\n"
     ]
    }
   ],
   "source": [
    "print(images.shape)"
   ]
  },
  {
   "cell_type": "markdown",
   "metadata": {},
   "source": [
    "# Classification Model "
   ]
  },
  {
   "cell_type": "code",
   "execution_count": 56,
   "metadata": {},
   "outputs": [
    {
     "name": "stdout",
     "output_type": "stream",
     "text": [
      "CUDA Available: True\n",
      "GPU Count: 1\n",
      "GPU Name: NVIDIA GeForce GTX 1650 Ti\n",
      "Total parameters: 6,447,143\n"
     ]
    }
   ],
   "source": [
    "import torch\n",
    "import torch.nn as nn\n",
    "\n",
    "class SkinCancerCNN(nn.Module):\n",
    "    def __init__(self, num_classes=7):\n",
    "        super(SkinCancerCNN, self).__init__()\n",
    "        self.features = nn.Sequential(\n",
    "            # Block 1\n",
    "            nn.Conv2d(3, 16, kernel_size=3, padding=1),  # Output: 32 x 224 x 224\n",
    "            nn.ReLU(),\n",
    "            nn.MaxPool2d(kernel_size=2, stride=2),       # Output: 32 x 112 x 112\n",
    "\n",
    "            # Block 2\n",
    "            nn.Conv2d(16, 32, kernel_size=3, padding=1), # Output: 64 x 112 x 112\n",
    "            nn.ReLU(),\n",
    "            nn.MaxPool2d(kernel_size=2, stride=2),       # Output: 64 x 56 x 56\n",
    "\n",
    "            # Block 3\n",
    "            nn.Conv2d(32, 64, kernel_size=3, padding=1),# Output: 128 x 56 x 56\n",
    "            nn.ReLU(),\n",
    "            nn.MaxPool2d(kernel_size=2, stride=2),       # Output: 128 x 28 x 28\n",
    "        )\n",
    "\n",
    "        self.classifier = nn.Sequential(\n",
    "            nn.Flatten(),\n",
    "            nn.Linear(64 * 28 * 28, 128),\n",
    "            nn.ReLU(),\n",
    "            nn.Dropout(0.5),\n",
    "            nn.Linear(128, num_classes)\n",
    "        )\n",
    "\n",
    "    \n",
    "    def forward(self, x):\n",
    "        x = self.features(x)  # Do the pattern-finding steps\n",
    "        x = self.classifier(x)  # Make the final guess\n",
    "        return x\n",
    "\n",
    "# Create the model and check if we can use a GPU (faster) or CPU (slower)\n",
    "device = torch.device(\"cuda\" if torch.cuda.is_available() else \"cpu\")\n",
    "\n",
    "\n",
    "model = SkinCancerCNN(num_classes=7).to(device)\n",
    "# Example: Move input data to GPU before passing it to the model\n",
    "input_tensor = torch.randn(1, 3, 224, 224).to(device)\n",
    "output = model(input_tensor)  # Now runs on GPU\n",
    "\n",
    "\n",
    "print(\"CUDA Available:\", torch.cuda.is_available())\n",
    "print(\"GPU Count:\", torch.cuda.device_count())\n",
    "print(\"GPU Name:\", torch.cuda.get_device_name(0) if torch.cuda.is_available() else \"No GPU detected\")\n",
    "\n",
    "# Count how many \"settings\" the model has\n",
    "total_params = sum(p.numel() for p in model.parameters())\n",
    "print(f\"Total parameters: {total_params:,}\")"
   ]
  },
  {
   "cell_type": "code",
   "execution_count": 58,
   "metadata": {},
   "outputs": [
    {
     "name": "stdout",
     "output_type": "stream",
     "text": [
      "Class weights: tensor([ 1.2855,  0.2134,  2.7817,  4.3731,  1.3022, 12.3633, 10.1154],\n",
      "       device='cuda:0')\n"
     ]
    }
   ],
   "source": [
    "import numpy as np\n",
    "from sklearn.utils.class_weight import compute_class_weight\n",
    "\n",
    "# Get the labels from the training data\n",
    "train_labels = []\n",
    "for _, _, label in train_dataset:  # We only need the labels, not the images or masks\n",
    "    train_labels.append(label)\n",
    "\n",
    "# Calculate weights for each class (to balance the dataset)\n",
    "class_weights = compute_class_weight(\n",
    "    class_weight='balanced',  # This makes sure rare classes get more importance\n",
    "    classes=np.arange(7),     # The 7 classes (0=MEL, 1=NV, 2=BCC, 3=AKIEC, 4=BKL, 5=DF, 6=VASC)\n",
    "    y=train_labels            # The labels from the training data\n",
    ")\n",
    "class_weights = torch.tensor(class_weights, dtype=torch.float).to(device)\n",
    "print(\"Class weights:\", class_weights)"
   ]
  },
  {
   "cell_type": "code",
   "execution_count": 57,
   "metadata": {},
   "outputs": [
    {
     "name": "stdout",
     "output_type": "stream",
     "text": [
      "cuda:0\n",
      "cuda:0\n"
     ]
    }
   ],
   "source": [
    "device = torch.device(\"cuda\" if torch.cuda.is_available() else \"cpu\")\n",
    "\n",
    "# Create a random tensor and move it to GPU\n",
    "tensor = torch.randn(1, 3, 224, 224).to(device)\n",
    "print(tensor.device)  # Should print \"cuda:0\"\n",
    "\n",
    "# Move model to GPU\n",
    "model.to(device)\n",
    "\n",
    "# Generate a random input and ensure model runs on GPU\n",
    "input_tensor = torch.randn(1, 3, 224, 224).to(device)\n",
    "output = model(input_tensor)\n",
    "print(output.device)  # Should print \"cuda:0\"\n"
   ]
  },
  {
   "cell_type": "code",
   "execution_count": 59,
   "metadata": {},
   "outputs": [
    {
     "name": "stdout",
     "output_type": "stream",
     "text": [
      "Round 1/10, Training Mistakes: 1.8189, Validation Mistakes: 1.2460, Validation Correct: 51.83%\n",
      "Round 2/10, Training Mistakes: 1.5846, Validation Mistakes: 1.0761, Validation Correct: 58.15%\n",
      "Round 3/10, Training Mistakes: 1.4969, Validation Mistakes: 1.1910, Validation Correct: 50.10%\n",
      "Round 4/10, Training Mistakes: 1.4330, Validation Mistakes: 1.4907, Validation Correct: 36.19%\n",
      "Round 5/10, Training Mistakes: 1.3986, Validation Mistakes: 1.1603, Validation Correct: 50.57%\n",
      "Round 6/10, Training Mistakes: 1.4022, Validation Mistakes: 1.2194, Validation Correct: 49.30%\n",
      "Round 7/10, Training Mistakes: 1.3639, Validation Mistakes: 1.1318, Validation Correct: 56.15%\n",
      "Round 8/10, Training Mistakes: 1.3983, Validation Mistakes: 1.3151, Validation Correct: 46.64%\n",
      "Round 9/10, Training Mistakes: 1.3461, Validation Mistakes: 1.1548, Validation Correct: 51.36%\n",
      "Round 10/10, Training Mistakes: 1.3139, Validation Mistakes: 1.2131, Validation Correct: 54.96%\n"
     ]
    }
   ],
   "source": [
    "import torch.optim as optim\n",
    "\n",
    "# Set up the \"scoring system\" and \"learning method\"\n",
    "criterion = nn.CrossEntropyLoss(weight=class_weights)  # Scoring system that uses the weights\n",
    "\n",
    "# Method to help the model learn with L2 regularization (weight_decay)\n",
    "optimizer = optim.Adam(model.parameters(), lr=0.001, weight_decay=0.005)  # Adding L2 regularization (weight_decay)\n",
    "\n",
    "# Teach the model for 10 rounds\n",
    "num_epochs = 10\n",
    "for epoch in range(num_epochs):\n",
    "    model.train()  # Tell the model we're in \"learning mode\"\n",
    "    total_loss = 0.0  # Keep track of how many mistakes the model makes\n",
    "    \n",
    "    # Show the model each batch of training images\n",
    "    for images, _, labels in train_loader:  # We don't need the masks for classification\n",
    "        images, labels = images.to(device), labels.to(device)  # Move data to GPU/CPU\n",
    "        \n",
    "        optimizer.zero_grad()  # Reset the learning process\n",
    "        guesses = model(images)  # Let the model guess the cancer type\n",
    "        loss = criterion(guesses, labels)  # Check how wrong the guesses are\n",
    "        loss.backward()  # Tell the model what it got wrong\n",
    "        optimizer.step()  # Help the model learn from its mistakes\n",
    "        \n",
    "        total_loss += loss.item()  # Add up the mistakes\n",
    "    \n",
    "    # Check how well the model is doing on the validation images\n",
    "    model.eval()  # Tell the model we're in \"testing mode\"\n",
    "    val_loss = 0.0  # Track mistakes on validation data\n",
    "    correct = 0  # Count correct guesses\n",
    "    total = 0  # Count total guesses\n",
    "    with torch.no_grad():  # Don't learn, just test\n",
    "        for images, _, labels in val_loader:\n",
    "            images, labels = images.to(device), labels.to(device)\n",
    "            guesses = model(images)\n",
    "            loss = criterion(guesses, labels)\n",
    "            val_loss += loss.item()\n",
    "            \n",
    "            # Count how many guesses were correct\n",
    "            best_guess = guesses.argmax(dim=1)  # Pick the highest score as the guess\n",
    "            total += labels.size(0)  # Add up the number of images\n",
    "            correct += (best_guess == labels).sum().item()  # Count correct guesses\n",
    "    \n",
    "    # Print how the model did in this round\n",
    "    print(f\"Round {epoch+1}/{num_epochs}, Training Mistakes: {total_loss/len(train_loader):.4f}, \"\n",
    "          f\"Validation Mistakes: {val_loss/len(val_loader):.4f}, Validation Correct: {100 * correct / total:.2f}%\")\n"
   ]
  },
  {
   "cell_type": "code",
   "execution_count": 60,
   "metadata": {},
   "outputs": [],
   "source": [
    "from sklearn.metrics import confusion_matrix, classification_report, accuracy_score\n",
    "import seaborn as sns\n",
    "import matplotlib.pyplot as plt\n",
    "import numpy as np\n"
   ]
  },
  {
   "cell_type": "code",
   "execution_count": 61,
   "metadata": {},
   "outputs": [],
   "source": [
    "def test_model(model, test_loader, class_names, device):\n",
    "    model.eval()\n",
    "    all_preds = []\n",
    "    all_labels = []\n",
    "\n",
    "    with torch.no_grad():\n",
    "        for images, _, labels in test_loader:\n",
    "            images = images.to(device)\n",
    "            labels = labels.to(device)\n",
    "\n",
    "            outputs = model(images)\n",
    "            _, predicted = torch.max(outputs, 1)\n",
    "\n",
    "            all_preds.extend(predicted.cpu().numpy())\n",
    "            all_labels.extend(labels.cpu().numpy())\n",
    "\n",
    "    # Convert to numpy arrays\n",
    "    all_preds = np.array(all_preds)\n",
    "    all_labels = np.array(all_labels)\n",
    "\n",
    "    # 🧮 Overall Accuracy\n",
    "    acc = accuracy_score(all_labels, all_preds)\n",
    "    print(f\"\\n✅ Overall Accuracy: {acc * 100:.2f}%\\n\")\n",
    "\n",
    "    # 📉 Confusion Matrix\n",
    "    cm = confusion_matrix(all_labels, all_preds)\n",
    "    plt.figure(figsize=(10, 8))\n",
    "    sns.heatmap(cm, annot=True, fmt=\"d\", cmap=\"Blues\", xticklabels=class_names, yticklabels=class_names)\n",
    "    plt.xlabel(\"Predicted Label\")\n",
    "    plt.ylabel(\"True Label\")\n",
    "    plt.title(\"Confusion Matrix\")\n",
    "    plt.show()\n",
    "\n",
    "    # 📊 Precision, Recall, F1-Score (per class)\n",
    "    print(\"🔍 Detailed Classification Report:\")\n",
    "    print(classification_report(all_labels, all_preds, target_names=class_names, zero_division=0))\n",
    "\n"
   ]
  },
  {
   "cell_type": "code",
   "execution_count": 62,
   "metadata": {},
   "outputs": [
    {
     "name": "stdout",
     "output_type": "stream",
     "text": [
      "\n",
      "✅ Overall Accuracy: 52.60%\n",
      "\n"
     ]
    },
    {
     "data": {
      "image/png": "[encoded data removed]",
      "text/plain": [
       "<Figure size 1000x800 with 2 Axes>"
      ]
     },
     "metadata": {},
     "output_type": "display_data"
    },
    {
     "name": "stdout",
     "output_type": "stream",
     "text": [
      "🔍 Detailed Classification Report:\n",
      "              precision    recall  f1-score   support\n",
      "\n",
      "    Melanoma       0.31      0.46      0.37       167\n",
      "          NV       0.94      0.57      0.71      1006\n",
      "         BCC       0.24      0.43      0.31        77\n",
      "       AKIEC       0.13      0.43      0.20        49\n",
      "         BKL       0.34      0.38      0.36       165\n",
      "          DF       0.11      0.41      0.18        17\n",
      "        VASC       0.18      0.86      0.30        21\n",
      "\n",
      "    accuracy                           0.53      1502\n",
      "   macro avg       0.32      0.50      0.35      1502\n",
      "weighted avg       0.72      0.53      0.58      1502\n",
      "\n"
     ]
    }
   ],
   "source": [
    "class_names = [\"Melanoma\", \"NV\", \"BCC\", \"AKIEC\", \"BKL\", \"DF\", \"VASC\"]  # Use your class names\n",
    "test_model(model, test_loader, class_names, device)\n"
   ]
  }
 ],
 "metadata": {
  "kernelspec": {
   "display_name": "Python 3",
   "language": "python",
   "name": "python3"
  },
  "language_info": {
   "codemirror_mode": {
    "name": "ipython",
    "version": 3
   },
   "file_extension": ".py",
   "mimetype": "text/x-python",
   "name": "python",
   "nbconvert_exporter": "python",
   "pygments_lexer": "ipython3",
   "version": "3.11.9"
  }
 },
 "nbformat": 4,
 "nbformat_minor": 2
}
